{
 "cells": [
  {
   "cell_type": "code",
   "execution_count": 2,
   "metadata": {},
   "outputs": [],
   "source": [
    "import json"
   ]
  },
  {
   "cell_type": "code",
   "execution_count": 3,
   "metadata": {},
   "outputs": [],
   "source": [
    "def assign_strains_to_wells(plate_layout):\n",
    "    for el in plate_layout:\n",
    "        if el[\"well\"][0] in [\"A\", \"E\"]:\n",
    "            el[\"strain\"] = \"MiniKat #1\"\n",
    "        elif el[\"well\"][0] in [\"B\", \"F\"]:\n",
    "            el[\"strain\"] = \"MiniKat p165\"\n",
    "        elif el[\"well\"][0] in [\"C\", \"G\"]:\n",
    "            el[\"strain\"] = \"MiniKat p183\"\n",
    "        elif el[\"well\"][0] in [\"D\", \"H\"]:\n",
    "            el[\"strain\"] = \"MiniKat p184\"\n",
    "\n",
    "    return plate_layout\n",
    "\n",
    "\n",
    "def assign_conditions_to_wells(plate_layout):\n",
    "    for el in plate_layout:\n",
    "        if el[\"well\"][1:] in [\"1\", \"2\"]:\n",
    "            el[\"condition\"] = \"Ace30\"\n",
    "        elif el[\"well\"][1:] in [\"3\", \"4\"]:\n",
    "            el[\"condition\"] = \"Suc15\"\n",
    "        elif el[\"well\"][1:] in [\"5\", \"6\"]:\n",
    "            el[\"condition\"] = \"Gly20\"\n",
    "        elif el[\"well\"][1:] in [\"7\", \"8\"]:\n",
    "            el[\"condition\"] = \"Glc10\"\n",
    "        elif el[\"well\"][1:] in [\"9\", \"10\"]:\n",
    "            el[\"condition\"] = \"Glc10 + Ace10\"\n",
    "        elif el[\"well\"][1:] in [\"11\", \"12\"] and el[\"well\"][0] in [\"A\", \"B\", \"C\", \"D\"]:\n",
    "            el[\"condition\"] = \"Glc40 + Ace10 + PQQ\"\n",
    "        elif el[\"well\"][1:] in [\"11\", \"12\"] and el[\"well\"][0] in [\"E\", \"F\", \"G\", \"H\"]:\n",
    "            el[\"condition\"] = \"Glc10 + Acn10\"\n",
    "\n",
    "    return plate_layout\n",
    "\n",
    "\n",
    "def assign_replicates_to_wells(plate_layout):\n",
    "    for el in plate_layout:\n",
    "        if el[\"well\"][1:] in [\"1\", \"3\", \"5\", \"7\", \"9\", \"11\"]:\n",
    "            el[\"replicate\"] = \"1\"\n",
    "        elif el[\"well\"][1:] in [\"2\", \"4\", \"6\", \"8\", \"10\", \"12\"]:\n",
    "            el[\"replicate\"] = \"2\"\n",
    "\n",
    "    return plate_layout\n",
    "\n",
    "\n",
    "def assign_medium_to_wells(plate_layout):\n",
    "    for el in plate_layout:\n",
    "        if el[\"well\"][0] in [\"A\", \"B\", \"C\", \"D\"]:\n",
    "            el[\"medium\"] = \"MX\"\n",
    "        elif el[\"well\"][0] in [\"E\", \"F\", \"G\", \"H\"]:\n",
    "            if el[\"well\"][1:] in [\"1\", \"2\", \"3\", \"4\", \"5\", \"6\", \"7\", \"8\", \"9\", \"10\"]:\n",
    "                el[\"medium\"] = \"MX + 250uM IPTG\"\n",
    "            else:\n",
    "                el[\"medium\"] = \"MX\"\n",
    "    return plate_layout"
   ]
  },
  {
   "cell_type": "code",
   "execution_count": 4,
   "metadata": {},
   "outputs": [],
   "source": [
    "def get_well_name(i):\n",
    "    \"\"\"Calculates the well name from the well index.\n",
    "\n",
    "    Args:\n",
    "        i (number): well index\n",
    "\n",
    "    Returns:\n",
    "        str: well name\n",
    "    \"\"\"\n",
    "\n",
    "    row = [\"A\", \"B\", \"C\", \"D\", \"E\", \"F\", \"G\", \"H\"][i // 12]\n",
    "    col = str(i % 12 + 1)\n",
    "\n",
    "    return row + col"
   ]
  },
  {
   "cell_type": "code",
   "execution_count": 5,
   "metadata": {},
   "outputs": [],
   "source": [
    "plate_layout = []\n",
    "\n",
    "# create an empty plate layout\n",
    "for i in range(96):\n",
    "    plate_layout.append(\n",
    "        {\n",
    "            \"condition\": \"\",\n",
    "            \"strain\": \"\",\n",
    "            \"medium\": \"\",\n",
    "            \"replicate\": \"\",\n",
    "            \"well\": get_well_name(i),\n",
    "        }\n",
    "    )\n",
    "\n",
    "# assign strains, conditions, replicates and medium to wells\n",
    "plate_layout = assign_strains_to_wells(plate_layout)\n",
    "plate_layout = assign_conditions_to_wells(plate_layout)\n",
    "plate_layout = assign_replicates_to_wells(plate_layout)\n",
    "plate_layout = assign_medium_to_wells(plate_layout)\n",
    "\n",
    "# save plate layout to file (json)\n",
    "with open(\"plate_layout_example.json\", \"w\") as f:\n",
    "    json.dump(plate_layout, f)"
   ]
  },
  {
   "cell_type": "code",
   "execution_count": null,
   "metadata": {},
   "outputs": [],
   "source": []
  }
 ],
 "metadata": {
  "kernelspec": {
   "display_name": "growth-figures",
   "language": "python",
   "name": "python3"
  },
  "language_info": {
   "codemirror_mode": {
    "name": "ipython",
    "version": 3
   },
   "file_extension": ".py",
   "mimetype": "text/x-python",
   "name": "python",
   "nbconvert_exporter": "python",
   "pygments_lexer": "ipython3",
   "version": "3.10.2"
  },
  "orig_nbformat": 4
 },
 "nbformat": 4,
 "nbformat_minor": 2
}
